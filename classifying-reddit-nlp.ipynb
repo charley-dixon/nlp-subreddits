{
 "cells": [
  {
   "cell_type": "markdown",
   "metadata": {
    "focus": false,
    "id": "69b9a648-bcc7-490d-9f9b-ea244d156bd6"
   },
   "source": [
    "# Using Reddit's API for Predicting Comments"
   ]
  },
  {
   "cell_type": "markdown",
   "metadata": {
    "ExecuteTime": {
     "end_time": "2017-10-23T19:28:02.619411Z",
     "start_time": "2017-10-23T19:28:02.600856Z"
    }
   },
   "source": [
    "In this project, we will practice two major skills. Collecting data via an API request and then building a binary predictor.\n",
    "\n",
    "As we discussed in week 2, and earlier today, there are two components to starting a data science problem: the problem statement, and acquiring the data.\n",
    "\n",
    "For this article, your problem statement will be: _What characteristics of a post on Reddit contribute most to what subreddit it belongs to?_\n",
    "\n",
    "Your method for acquiring the data will be scraping threads from at least two subreddits. \n",
    "\n",
    "Once you've got the data, you will build a classification model that, using Natural Language Processing and any other relevant features, predicts which subreddit a given post belongs to."
   ]
  },
  {
   "cell_type": "markdown",
   "metadata": {
    "focus": false,
    "id": "a948d79c-5527-4c0d-ab23-f5d43ce72056"
   },
   "source": [
    "### Scraping Thread Info from Reddit.com"
   ]
  },
  {
   "cell_type": "markdown",
   "metadata": {},
   "source": [
    "#### Set up a request (using requests) to the URL below. \n",
    "\n",
    "*NOTE*: Reddit will throw a [429 error](https://httpstatuses.com/429) when using the following code:\n",
    "```python\n",
    "res = requests.get(URL)\n",
    "```\n",
    "\n",
    "This is because Reddit has throttled python's default user agent. You'll need to set a custom `User-agent` to get your request to work.\n",
    "```python\n",
    "res = requests.get(URL, headers={'User-agent': 'YOUR NAME Bot 0.1'})\n",
    "```"
   ]
  },
  {
   "cell_type": "code",
   "execution_count": 1,
   "metadata": {},
   "outputs": [],
   "source": [
    "import requests\n",
    "import time\n",
    "import json\n",
    "import pandas as pd\n",
    "import re\n",
    "import nltk\n",
    "import matplotlib.pyplot as plt\n",
    "from nltk.stem import WordNetLemmatizer\n",
    "from bs4 import BeautifulSoup\n",
    "from sklearn.model_selection import train_test_split, cross_val_score, GridSearchCV\n",
    "from sklearn.feature_extraction.text import CountVectorizer, TfidfVectorizer\n",
    "from sklearn.linear_model import LogisticRegression\n",
    "from sklearn.naive_bayes import MultinomialNB, BernoulliNB\n",
    "from sklearn.pipeline import Pipeline\n",
    "from sklearn.metrics import confusion_matrix\n",
    "from sklearn.ensemble import RandomForestClassifier\n",
    "from nltk.corpus import stopwords"
   ]
  },
  {
   "cell_type": "code",
   "execution_count": 2,
   "metadata": {},
   "outputs": [],
   "source": [
    "def get_reddit_posts(sub_list, website = 'reddit.com'): # pass in list of subreddits\n",
    "    headers = {'User-agent': 'Chuck Bob MAC 5.5'}\n",
    "    posts = [] # list of dicts for each feature in a reddit post\n",
    "    for subreddit in sub_list:\n",
    "        url = 'http://www.{}/r/{}.json'.format(website, subreddit)\n",
    "        after = None # each subreddit must start w 'after = None' to start retrieving most recent results\n",
    "        # start range at 1 to make status message work properly (can't multiply by 0)\n",
    "        for i in range(1, 41): # to get maximum of 1000 posts\n",
    "            if after == None:\n",
    "                params = {}\n",
    "            else:\n",
    "                params = {'after': after} # prevents duplication of get requests\n",
    "            res = requests.get(url, params = params, headers = headers)\n",
    "            if res.status_code == 200:\n",
    "                json = res.json()\n",
    "                # create a list of dicts for each post\n",
    "                posts.extend([post['data'] for post in json['data']['children']]) # json['data']['children'] is a list of dictionaries with api info on each post\n",
    "                after = json['data']['after']\n",
    "            else:\n",
    "                print('Oops... something went wrong! Status Code: {}'.format(res.status_code))\n",
    "                break\n",
    "            if i != 40:\n",
    "                print('For subreddit, {}, about {} percent of posts have been retrieved'.format(subreddit, round((i * 25 / 1000) * 100)[1]), end = '\\r')\n",
    "            else:\n",
    "                print('Subreddit {} has been retrieved'.format(subreddit))\n",
    "            \n",
    "            # SAVE DATA TO CSV AFTER EACH API CALL\n",
    "            pd.DataFrame(posts).to_csv('posts.csv', index = False)\n",
    "            time.sleep(3)\n",
    "    return posts"
   ]
  },
  {
   "cell_type": "code",
   "execution_count": 3,
   "metadata": {},
   "outputs": [],
   "source": [
    "# Only run this cell if you want to make an API call\n",
    "# subreddits = ['financialindependence', 'personalfinance']\n",
    "# posts = get_reddit_posts(subreddits)"
   ]
  },
  {
   "cell_type": "code",
   "execution_count": 4,
   "metadata": {},
   "outputs": [],
   "source": [
    "# if subreddit posts are already downloaded, run this cell to load from csv\n",
    "posts = pd.read_csv('./posts.csv')"
   ]
  },
  {
   "cell_type": "code",
   "execution_count": 5,
   "metadata": {
    "scrolled": false
   },
   "outputs": [],
   "source": [
    "post_df = pd.DataFrame(posts)"
   ]
  },
  {
   "cell_type": "code",
   "execution_count": 6,
   "metadata": {},
   "outputs": [
    {
     "data": {
      "text/html": [
       "<div>\n",
       "<style scoped>\n",
       "    .dataframe tbody tr th:only-of-type {\n",
       "        vertical-align: middle;\n",
       "    }\n",
       "\n",
       "    .dataframe tbody tr th {\n",
       "        vertical-align: top;\n",
       "    }\n",
       "\n",
       "    .dataframe thead th {\n",
       "        text-align: right;\n",
       "    }\n",
       "</style>\n",
       "<table border=\"1\" class=\"dataframe\">\n",
       "  <thead>\n",
       "    <tr style=\"text-align: right;\">\n",
       "      <th></th>\n",
       "      <th>approved_at_utc</th>\n",
       "      <th>approved_by</th>\n",
       "      <th>archived</th>\n",
       "      <th>author</th>\n",
       "      <th>author_cakeday</th>\n",
       "      <th>author_flair_background_color</th>\n",
       "      <th>author_flair_css_class</th>\n",
       "      <th>author_flair_richtext</th>\n",
       "      <th>author_flair_template_id</th>\n",
       "      <th>author_flair_text</th>\n",
       "      <th>...</th>\n",
       "      <th>thumbnail_height</th>\n",
       "      <th>thumbnail_width</th>\n",
       "      <th>title</th>\n",
       "      <th>ups</th>\n",
       "      <th>url</th>\n",
       "      <th>user_reports</th>\n",
       "      <th>view_count</th>\n",
       "      <th>visited</th>\n",
       "      <th>whitelist_status</th>\n",
       "      <th>wls</th>\n",
       "    </tr>\n",
       "  </thead>\n",
       "  <tbody>\n",
       "    <tr>\n",
       "      <th>0</th>\n",
       "      <td>NaN</td>\n",
       "      <td>NaN</td>\n",
       "      <td>False</td>\n",
       "      <td>ER10years_throwaway</td>\n",
       "      <td>NaN</td>\n",
       "      <td>NaN</td>\n",
       "      <td>NaN</td>\n",
       "      <td>[]</td>\n",
       "      <td>NaN</td>\n",
       "      <td>FI/ER'd in 2005 at 36</td>\n",
       "      <td>...</td>\n",
       "      <td>NaN</td>\n",
       "      <td>NaN</td>\n",
       "      <td>Initial financial independence survey results ...</td>\n",
       "      <td>431</td>\n",
       "      <td>https://www.reddit.com/r/financialindependence...</td>\n",
       "      <td>[]</td>\n",
       "      <td>NaN</td>\n",
       "      <td>False</td>\n",
       "      <td>all_ads</td>\n",
       "      <td>6</td>\n",
       "    </tr>\n",
       "    <tr>\n",
       "      <th>1</th>\n",
       "      <td>NaN</td>\n",
       "      <td>NaN</td>\n",
       "      <td>False</td>\n",
       "      <td>Flipnkraut</td>\n",
       "      <td>NaN</td>\n",
       "      <td>NaN</td>\n",
       "      <td>NaN</td>\n",
       "      <td>[]</td>\n",
       "      <td>NaN</td>\n",
       "      <td>NaN</td>\n",
       "      <td>...</td>\n",
       "      <td>NaN</td>\n",
       "      <td>NaN</td>\n",
       "      <td>Stop trying to keep up with the FIRE Joneses</td>\n",
       "      <td>530</td>\n",
       "      <td>https://www.reddit.com/r/financialindependence...</td>\n",
       "      <td>[]</td>\n",
       "      <td>NaN</td>\n",
       "      <td>False</td>\n",
       "      <td>all_ads</td>\n",
       "      <td>6</td>\n",
       "    </tr>\n",
       "    <tr>\n",
       "      <th>2</th>\n",
       "      <td>NaN</td>\n",
       "      <td>NaN</td>\n",
       "      <td>False</td>\n",
       "      <td>outgetting</td>\n",
       "      <td>NaN</td>\n",
       "      <td>NaN</td>\n",
       "      <td>NaN</td>\n",
       "      <td>[]</td>\n",
       "      <td>NaN</td>\n",
       "      <td>NaN</td>\n",
       "      <td>...</td>\n",
       "      <td>NaN</td>\n",
       "      <td>NaN</td>\n",
       "      <td>Hit 4M USD NW</td>\n",
       "      <td>238</td>\n",
       "      <td>https://www.reddit.com/r/financialindependence...</td>\n",
       "      <td>[]</td>\n",
       "      <td>NaN</td>\n",
       "      <td>False</td>\n",
       "      <td>all_ads</td>\n",
       "      <td>6</td>\n",
       "    </tr>\n",
       "    <tr>\n",
       "      <th>3</th>\n",
       "      <td>NaN</td>\n",
       "      <td>NaN</td>\n",
       "      <td>False</td>\n",
       "      <td>redfaro</td>\n",
       "      <td>NaN</td>\n",
       "      <td>NaN</td>\n",
       "      <td>NaN</td>\n",
       "      <td>[]</td>\n",
       "      <td>NaN</td>\n",
       "      <td>NaN</td>\n",
       "      <td>...</td>\n",
       "      <td>NaN</td>\n",
       "      <td>NaN</td>\n",
       "      <td>I'm sorry, that's just not my kind of retireme...</td>\n",
       "      <td>132</td>\n",
       "      <td>https://www.reddit.com/r/financialindependence...</td>\n",
       "      <td>[]</td>\n",
       "      <td>NaN</td>\n",
       "      <td>False</td>\n",
       "      <td>all_ads</td>\n",
       "      <td>6</td>\n",
       "    </tr>\n",
       "    <tr>\n",
       "      <th>4</th>\n",
       "      <td>NaN</td>\n",
       "      <td>NaN</td>\n",
       "      <td>False</td>\n",
       "      <td>YeezyFishstix</td>\n",
       "      <td>NaN</td>\n",
       "      <td>NaN</td>\n",
       "      <td>NaN</td>\n",
       "      <td>[]</td>\n",
       "      <td>NaN</td>\n",
       "      <td>NaN</td>\n",
       "      <td>...</td>\n",
       "      <td>NaN</td>\n",
       "      <td>NaN</td>\n",
       "      <td>I don't work in the tech field, and I don't ea...</td>\n",
       "      <td>55</td>\n",
       "      <td>https://www.reddit.com/r/financialindependence...</td>\n",
       "      <td>[]</td>\n",
       "      <td>NaN</td>\n",
       "      <td>False</td>\n",
       "      <td>all_ads</td>\n",
       "      <td>6</td>\n",
       "    </tr>\n",
       "  </tbody>\n",
       "</table>\n",
       "<p>5 rows × 97 columns</p>\n",
       "</div>"
      ],
      "text/plain": [
       "   approved_at_utc  approved_by  archived               author author_cakeday  \\\n",
       "0              NaN          NaN     False  ER10years_throwaway            NaN   \n",
       "1              NaN          NaN     False           Flipnkraut            NaN   \n",
       "2              NaN          NaN     False           outgetting            NaN   \n",
       "3              NaN          NaN     False              redfaro            NaN   \n",
       "4              NaN          NaN     False        YeezyFishstix            NaN   \n",
       "\n",
       "   author_flair_background_color author_flair_css_class author_flair_richtext  \\\n",
       "0                            NaN                    NaN                    []   \n",
       "1                            NaN                    NaN                    []   \n",
       "2                            NaN                    NaN                    []   \n",
       "3                            NaN                    NaN                    []   \n",
       "4                            NaN                    NaN                    []   \n",
       "\n",
       "  author_flair_template_id      author_flair_text ...  thumbnail_height  \\\n",
       "0                      NaN  FI/ER'd in 2005 at 36 ...               NaN   \n",
       "1                      NaN                    NaN ...               NaN   \n",
       "2                      NaN                    NaN ...               NaN   \n",
       "3                      NaN                    NaN ...               NaN   \n",
       "4                      NaN                    NaN ...               NaN   \n",
       "\n",
       "  thumbnail_width                                              title  ups  \\\n",
       "0             NaN  Initial financial independence survey results ...  431   \n",
       "1             NaN       Stop trying to keep up with the FIRE Joneses  530   \n",
       "2             NaN                                      Hit 4M USD NW  238   \n",
       "3             NaN  I'm sorry, that's just not my kind of retireme...  132   \n",
       "4             NaN  I don't work in the tech field, and I don't ea...   55   \n",
       "\n",
       "                                                 url  user_reports  \\\n",
       "0  https://www.reddit.com/r/financialindependence...            []   \n",
       "1  https://www.reddit.com/r/financialindependence...            []   \n",
       "2  https://www.reddit.com/r/financialindependence...            []   \n",
       "3  https://www.reddit.com/r/financialindependence...            []   \n",
       "4  https://www.reddit.com/r/financialindependence...            []   \n",
       "\n",
       "   view_count  visited  whitelist_status  wls  \n",
       "0         NaN    False           all_ads    6  \n",
       "1         NaN    False           all_ads    6  \n",
       "2         NaN    False           all_ads    6  \n",
       "3         NaN    False           all_ads    6  \n",
       "4         NaN    False           all_ads    6  \n",
       "\n",
       "[5 rows x 97 columns]"
      ]
     },
     "execution_count": 6,
     "metadata": {},
     "output_type": "execute_result"
    }
   ],
   "source": [
    "post_df.head()"
   ]
  },
  {
   "cell_type": "markdown",
   "metadata": {},
   "source": [
    "> We aren't really concerned with the majority of missing values, because the only columns we care about are `subreddit`, `title`, and `selftext`."
   ]
  },
  {
   "cell_type": "code",
   "execution_count": 7,
   "metadata": {
    "scrolled": true
   },
   "outputs": [
    {
     "data": {
      "text/plain": [
       "1975"
      ]
     },
     "execution_count": 7,
     "metadata": {},
     "output_type": "execute_result"
    }
   ],
   "source": [
    "len(post_df['subreddit'])"
   ]
  },
  {
   "cell_type": "markdown",
   "metadata": {},
   "source": [
    "**Cleaning**  \n",
    "- Grab the parts of each post that are relevant; `selftext` (the post description), `title`, and `subreddit` (the target variable)\n",
    "- Fill any missing/null values with an empty string (because they were most likely just not input by the Reddit user in the first place)\n",
    "- Combine the title and description for each post to create one individual document per post\n",
    "\n",
    "**Pre-Processing**  \n",
    "\n",
    "After creating the documents, I will need to preprocess them before I can use `CountVectorizer` to count each word. That will consist of the following steps:\n",
    "\n",
    "- `Regex` to remove punctuation and any other unwanted elements\n",
    "- Remove stop words\n",
    "- Lemmatize/Stem words"
   ]
  },
  {
   "cell_type": "code",
   "execution_count": 8,
   "metadata": {},
   "outputs": [],
   "source": [
    "corpus = post_df[['subreddit', 'title', 'selftext']]"
   ]
  },
  {
   "cell_type": "code",
   "execution_count": 9,
   "metadata": {
    "scrolled": true
   },
   "outputs": [
    {
     "data": {
      "text/html": [
       "<div>\n",
       "<style scoped>\n",
       "    .dataframe tbody tr th:only-of-type {\n",
       "        vertical-align: middle;\n",
       "    }\n",
       "\n",
       "    .dataframe tbody tr th {\n",
       "        vertical-align: top;\n",
       "    }\n",
       "\n",
       "    .dataframe thead th {\n",
       "        text-align: right;\n",
       "    }\n",
       "</style>\n",
       "<table border=\"1\" class=\"dataframe\">\n",
       "  <thead>\n",
       "    <tr style=\"text-align: right;\">\n",
       "      <th></th>\n",
       "      <th>subreddit</th>\n",
       "      <th>title</th>\n",
       "      <th>selftext</th>\n",
       "    </tr>\n",
       "  </thead>\n",
       "  <tbody>\n",
       "    <tr>\n",
       "      <th>0</th>\n",
       "      <td>financialindependence</td>\n",
       "      <td>Initial financial independence survey results ...</td>\n",
       "      <td>The initial survey results - only including re...</td>\n",
       "    </tr>\n",
       "    <tr>\n",
       "      <th>1</th>\n",
       "      <td>financialindependence</td>\n",
       "      <td>Stop trying to keep up with the FIRE Joneses</td>\n",
       "      <td>I see a lot of people getting down on where th...</td>\n",
       "    </tr>\n",
       "    <tr>\n",
       "      <th>2</th>\n",
       "      <td>financialindependence</td>\n",
       "      <td>Hit 4M USD NW</td>\n",
       "      <td>\\n\\nThrowaway account. We hit 4M NW today!  ...</td>\n",
       "    </tr>\n",
       "    <tr>\n",
       "      <th>3</th>\n",
       "      <td>financialindependence</td>\n",
       "      <td>I'm sorry, that's just not my kind of retireme...</td>\n",
       "      <td>Bored at work, and poking around online about ...</td>\n",
       "    </tr>\n",
       "    <tr>\n",
       "      <th>4</th>\n",
       "      <td>financialindependence</td>\n",
       "      <td>I don't work in the tech field, and I don't ea...</td>\n",
       "      <td>Im 24 and earn about 35k, and feel so discoura...</td>\n",
       "    </tr>\n",
       "  </tbody>\n",
       "</table>\n",
       "</div>"
      ],
      "text/plain": [
       "               subreddit                                              title  \\\n",
       "0  financialindependence  Initial financial independence survey results ...   \n",
       "1  financialindependence       Stop trying to keep up with the FIRE Joneses   \n",
       "2  financialindependence                                      Hit 4M USD NW   \n",
       "3  financialindependence  I'm sorry, that's just not my kind of retireme...   \n",
       "4  financialindependence  I don't work in the tech field, and I don't ea...   \n",
       "\n",
       "                                            selftext  \n",
       "0  The initial survey results - only including re...  \n",
       "1  I see a lot of people getting down on where th...  \n",
       "2    \\n\\nThrowaway account. We hit 4M NW today!  ...  \n",
       "3  Bored at work, and poking around online about ...  \n",
       "4  Im 24 and earn about 35k, and feel so discoura...  "
      ]
     },
     "execution_count": 9,
     "metadata": {},
     "output_type": "execute_result"
    }
   ],
   "source": [
    "corpus.head()"
   ]
  },
  {
   "cell_type": "code",
   "execution_count": 10,
   "metadata": {},
   "outputs": [
    {
     "data": {
      "text/plain": [
       "subreddit     0\n",
       "title         0\n",
       "selftext     25\n",
       "dtype: int64"
      ]
     },
     "execution_count": 10,
     "metadata": {},
     "output_type": "execute_result"
    }
   ],
   "source": [
    "corpus.isnull().sum()"
   ]
  },
  {
   "cell_type": "markdown",
   "metadata": {},
   "source": [
    "> Need to input an empty string for descriptions that are empty"
   ]
  },
  {
   "cell_type": "code",
   "execution_count": 11,
   "metadata": {
    "scrolled": true
   },
   "outputs": [
    {
     "name": "stderr",
     "output_type": "stream",
     "text": [
      "/Users/charleydixon/anaconda3/lib/python3.6/site-packages/pandas/core/generic.py:5430: SettingWithCopyWarning: \n",
      "A value is trying to be set on a copy of a slice from a DataFrame\n",
      "\n",
      "See the caveats in the documentation: http://pandas.pydata.org/pandas-docs/stable/indexing.html#indexing-view-versus-copy\n",
      "  self._update_inplace(new_data)\n"
     ]
    }
   ],
   "source": [
    "corpus['selftext'].fillna('', inplace = True)"
   ]
  },
  {
   "cell_type": "code",
   "execution_count": 12,
   "metadata": {},
   "outputs": [
    {
     "data": {
      "text/plain": [
       "0"
      ]
     },
     "execution_count": 12,
     "metadata": {},
     "output_type": "execute_result"
    }
   ],
   "source": [
    "corpus['selftext'].isnull().sum()"
   ]
  },
  {
   "cell_type": "code",
   "execution_count": 13,
   "metadata": {
    "scrolled": true
   },
   "outputs": [
    {
     "name": "stderr",
     "output_type": "stream",
     "text": [
      "/Users/charleydixon/anaconda3/lib/python3.6/site-packages/ipykernel_launcher.py:2: SettingWithCopyWarning: \n",
      "A value is trying to be set on a copy of a slice from a DataFrame.\n",
      "Try using .loc[row_indexer,col_indexer] = value instead\n",
      "\n",
      "See the caveats in the documentation: http://pandas.pydata.org/pandas-docs/stable/indexing.html#indexing-view-versus-copy\n",
      "  \n"
     ]
    }
   ],
   "source": [
    "# combining title and description into one \"document\"\n",
    "corpus['documents'] = corpus['title'] + ' ' + corpus['selftext']"
   ]
  },
  {
   "cell_type": "code",
   "execution_count": 14,
   "metadata": {
    "scrolled": true
   },
   "outputs": [
    {
     "data": {
      "text/html": [
       "<div>\n",
       "<style scoped>\n",
       "    .dataframe tbody tr th:only-of-type {\n",
       "        vertical-align: middle;\n",
       "    }\n",
       "\n",
       "    .dataframe tbody tr th {\n",
       "        vertical-align: top;\n",
       "    }\n",
       "\n",
       "    .dataframe thead th {\n",
       "        text-align: right;\n",
       "    }\n",
       "</style>\n",
       "<table border=\"1\" class=\"dataframe\">\n",
       "  <thead>\n",
       "    <tr style=\"text-align: right;\">\n",
       "      <th></th>\n",
       "      <th>subreddit</th>\n",
       "      <th>title</th>\n",
       "      <th>selftext</th>\n",
       "      <th>documents</th>\n",
       "    </tr>\n",
       "  </thead>\n",
       "  <tbody>\n",
       "    <tr>\n",
       "      <th>0</th>\n",
       "      <td>financialindependence</td>\n",
       "      <td>Initial financial independence survey results ...</td>\n",
       "      <td>The initial survey results - only including re...</td>\n",
       "      <td>Initial financial independence survey results ...</td>\n",
       "    </tr>\n",
       "    <tr>\n",
       "      <th>1</th>\n",
       "      <td>financialindependence</td>\n",
       "      <td>Stop trying to keep up with the FIRE Joneses</td>\n",
       "      <td>I see a lot of people getting down on where th...</td>\n",
       "      <td>Stop trying to keep up with the FIRE Joneses I...</td>\n",
       "    </tr>\n",
       "    <tr>\n",
       "      <th>2</th>\n",
       "      <td>financialindependence</td>\n",
       "      <td>Hit 4M USD NW</td>\n",
       "      <td>\\n\\nThrowaway account. We hit 4M NW today!  ...</td>\n",
       "      <td>Hit 4M USD NW   \\n\\nThrowaway account. We hit ...</td>\n",
       "    </tr>\n",
       "    <tr>\n",
       "      <th>3</th>\n",
       "      <td>financialindependence</td>\n",
       "      <td>I'm sorry, that's just not my kind of retireme...</td>\n",
       "      <td>Bored at work, and poking around online about ...</td>\n",
       "      <td>I'm sorry, that's just not my kind of retireme...</td>\n",
       "    </tr>\n",
       "    <tr>\n",
       "      <th>4</th>\n",
       "      <td>financialindependence</td>\n",
       "      <td>I don't work in the tech field, and I don't ea...</td>\n",
       "      <td>Im 24 and earn about 35k, and feel so discoura...</td>\n",
       "      <td>I don't work in the tech field, and I don't ea...</td>\n",
       "    </tr>\n",
       "  </tbody>\n",
       "</table>\n",
       "</div>"
      ],
      "text/plain": [
       "               subreddit                                              title  \\\n",
       "0  financialindependence  Initial financial independence survey results ...   \n",
       "1  financialindependence       Stop trying to keep up with the FIRE Joneses   \n",
       "2  financialindependence                                      Hit 4M USD NW   \n",
       "3  financialindependence  I'm sorry, that's just not my kind of retireme...   \n",
       "4  financialindependence  I don't work in the tech field, and I don't ea...   \n",
       "\n",
       "                                            selftext  \\\n",
       "0  The initial survey results - only including re...   \n",
       "1  I see a lot of people getting down on where th...   \n",
       "2    \\n\\nThrowaway account. We hit 4M NW today!  ...   \n",
       "3  Bored at work, and poking around online about ...   \n",
       "4  Im 24 and earn about 35k, and feel so discoura...   \n",
       "\n",
       "                                           documents  \n",
       "0  Initial financial independence survey results ...  \n",
       "1  Stop trying to keep up with the FIRE Joneses I...  \n",
       "2  Hit 4M USD NW   \\n\\nThrowaway account. We hit ...  \n",
       "3  I'm sorry, that's just not my kind of retireme...  \n",
       "4  I don't work in the tech field, and I don't ea...  "
      ]
     },
     "execution_count": 14,
     "metadata": {},
     "output_type": "execute_result"
    }
   ],
   "source": [
    "corpus.head()"
   ]
  },
  {
   "cell_type": "markdown",
   "metadata": {
    "focus": false,
    "id": "a7afb2c0-d41e-4779-8216-91cd8dd4473f"
   },
   "source": [
    "#### Thought experiment: What is the baseline accuracy for this model?"
   ]
  },
  {
   "cell_type": "code",
   "execution_count": 15,
   "metadata": {
    "focus": false,
    "id": "87a17d3d-b7f4-4747-9f75-f9af1d18a174"
   },
   "outputs": [
    {
     "name": "stdout",
     "output_type": "stream",
     "text": [
      "financialindependence    988\n",
      "personalfinance          987\n",
      "Name: subreddit, dtype: int64 \n",
      "\n",
      "financialindependence    0.500253\n",
      "personalfinance          0.499747\n",
      "Name: subreddit, dtype: float64\n"
     ]
    }
   ],
   "source": [
    "print(corpus['subreddit'].value_counts(), '\\n')\n",
    "print(corpus['subreddit'].value_counts(normalize = True))"
   ]
  },
  {
   "cell_type": "markdown",
   "metadata": {},
   "source": [
    "> Baseline accuracy is 50%. The `financialindependence` subreddit has one more post than `personalfinance`, but we have almost perfect balance between classes."
   ]
  },
  {
   "cell_type": "markdown",
   "metadata": {},
   "source": [
    "> Great, now that the documents have been created from the title and descriptions for each post it is time to preprocess them for the `CountVectorizer`."
   ]
  },
  {
   "cell_type": "code",
   "execution_count": 16,
   "metadata": {},
   "outputs": [],
   "source": [
    "def preprocess(document):\n",
    "    # remove HTML\n",
    "    doc_text = BeautifulSoup(document, 'lxml').get_text()\n",
    "    # remove non-letters        \n",
    "    letters_only = re.sub(\"[^a-zA-Z]\", \" \", doc_text)\n",
    "    # convert to lower case, split into individual words\n",
    "    words = letters_only.lower().split()\n",
    "    stops = set(stopwords.words('english'))\n",
    "    # remove stop words & lemmatize\n",
    "    lemmatizer = WordNetLemmatizer()\n",
    "    meaningful_words = [lemmatizer.lemmatize(w) for w in words if not w in stops]\n",
    "    # join the words back into one string separated by space, and return the result\n",
    "    return(' '.join(meaningful_words))"
   ]
  },
  {
   "cell_type": "code",
   "execution_count": 17,
   "metadata": {},
   "outputs": [
    {
     "name": "stderr",
     "output_type": "stream",
     "text": [
      "/Users/charleydixon/anaconda3/lib/python3.6/site-packages/ipykernel_launcher.py:1: SettingWithCopyWarning: \n",
      "A value is trying to be set on a copy of a slice from a DataFrame.\n",
      "Try using .loc[row_indexer,col_indexer] = value instead\n",
      "\n",
      "See the caveats in the documentation: http://pandas.pydata.org/pandas-docs/stable/indexing.html#indexing-view-versus-copy\n",
      "  \"\"\"Entry point for launching an IPython kernel.\n"
     ]
    }
   ],
   "source": [
    "corpus['documents'] = [preprocess(post) for post in corpus['documents']]"
   ]
  },
  {
   "cell_type": "code",
   "execution_count": 18,
   "metadata": {
    "scrolled": true
   },
   "outputs": [
    {
     "data": {
      "text/html": [
       "<div>\n",
       "<style scoped>\n",
       "    .dataframe tbody tr th:only-of-type {\n",
       "        vertical-align: middle;\n",
       "    }\n",
       "\n",
       "    .dataframe tbody tr th {\n",
       "        vertical-align: top;\n",
       "    }\n",
       "\n",
       "    .dataframe thead th {\n",
       "        text-align: right;\n",
       "    }\n",
       "</style>\n",
       "<table border=\"1\" class=\"dataframe\">\n",
       "  <thead>\n",
       "    <tr style=\"text-align: right;\">\n",
       "      <th></th>\n",
       "      <th>subreddit</th>\n",
       "      <th>title</th>\n",
       "      <th>selftext</th>\n",
       "      <th>documents</th>\n",
       "    </tr>\n",
       "  </thead>\n",
       "  <tbody>\n",
       "    <tr>\n",
       "      <th>0</th>\n",
       "      <td>financialindependence</td>\n",
       "      <td>Initial financial independence survey results ...</td>\n",
       "      <td>The initial survey results - only including re...</td>\n",
       "      <td>initial financial independence survey result v...</td>\n",
       "    </tr>\n",
       "    <tr>\n",
       "      <th>1</th>\n",
       "      <td>financialindependence</td>\n",
       "      <td>Stop trying to keep up with the FIRE Joneses</td>\n",
       "      <td>I see a lot of people getting down on where th...</td>\n",
       "      <td>stop trying keep fire jones see lot people get...</td>\n",
       "    </tr>\n",
       "    <tr>\n",
       "      <th>2</th>\n",
       "      <td>financialindependence</td>\n",
       "      <td>Hit 4M USD NW</td>\n",
       "      <td>\\n\\nThrowaway account. We hit 4M NW today!  ...</td>\n",
       "      <td>hit usd nw throwaway account hit nw today year...</td>\n",
       "    </tr>\n",
       "    <tr>\n",
       "      <th>3</th>\n",
       "      <td>financialindependence</td>\n",
       "      <td>I'm sorry, that's just not my kind of retireme...</td>\n",
       "      <td>Bored at work, and poking around online about ...</td>\n",
       "      <td>sorry kind retirement calculator bored work po...</td>\n",
       "    </tr>\n",
       "    <tr>\n",
       "      <th>4</th>\n",
       "      <td>financialindependence</td>\n",
       "      <td>I don't work in the tech field, and I don't ea...</td>\n",
       "      <td>Im 24 and earn about 35k, and feel so discoura...</td>\n",
       "      <td>work tech field earn figure year feel place su...</td>\n",
       "    </tr>\n",
       "  </tbody>\n",
       "</table>\n",
       "</div>"
      ],
      "text/plain": [
       "               subreddit                                              title  \\\n",
       "0  financialindependence  Initial financial independence survey results ...   \n",
       "1  financialindependence       Stop trying to keep up with the FIRE Joneses   \n",
       "2  financialindependence                                      Hit 4M USD NW   \n",
       "3  financialindependence  I'm sorry, that's just not my kind of retireme...   \n",
       "4  financialindependence  I don't work in the tech field, and I don't ea...   \n",
       "\n",
       "                                            selftext  \\\n",
       "0  The initial survey results - only including re...   \n",
       "1  I see a lot of people getting down on where th...   \n",
       "2    \\n\\nThrowaway account. We hit 4M NW today!  ...   \n",
       "3  Bored at work, and poking around online about ...   \n",
       "4  Im 24 and earn about 35k, and feel so discoura...   \n",
       "\n",
       "                                           documents  \n",
       "0  initial financial independence survey result v...  \n",
       "1  stop trying keep fire jones see lot people get...  \n",
       "2  hit usd nw throwaway account hit nw today year...  \n",
       "3  sorry kind retirement calculator bored work po...  \n",
       "4  work tech field earn figure year feel place su...  "
      ]
     },
     "execution_count": 18,
     "metadata": {},
     "output_type": "execute_result"
    }
   ],
   "source": [
    "corpus.head()"
   ]
  },
  {
   "cell_type": "markdown",
   "metadata": {},
   "source": [
    "### TTS"
   ]
  },
  {
   "cell_type": "code",
   "execution_count": 19,
   "metadata": {},
   "outputs": [],
   "source": [
    "X = corpus['documents']\n",
    "y = corpus['subreddit'].map({'financialindependence': 0, 'personalfinance': 1})\n",
    "\n",
    "X_train, X_test, y_train, y_test = train_test_split(X, y, random_state=42)"
   ]
  },
  {
   "cell_type": "markdown",
   "metadata": {},
   "source": [
    "## NLP EDA"
   ]
  },
  {
   "cell_type": "code",
   "execution_count": 20,
   "metadata": {},
   "outputs": [
    {
     "name": "stderr",
     "output_type": "stream",
     "text": [
      "/Users/charleydixon/anaconda3/lib/python3.6/site-packages/ipykernel_launcher.py:1: SettingWithCopyWarning: \n",
      "A value is trying to be set on a copy of a slice from a DataFrame.\n",
      "Try using .loc[row_indexer,col_indexer] = value instead\n",
      "\n",
      "See the caveats in the documentation: http://pandas.pydata.org/pandas-docs/stable/indexing.html#indexing-view-versus-copy\n",
      "  \"\"\"Entry point for launching an IPython kernel.\n",
      "/Users/charleydixon/anaconda3/lib/python3.6/site-packages/ipykernel_launcher.py:2: SettingWithCopyWarning: \n",
      "A value is trying to be set on a copy of a slice from a DataFrame.\n",
      "Try using .loc[row_indexer,col_indexer] = value instead\n",
      "\n",
      "See the caveats in the documentation: http://pandas.pydata.org/pandas-docs/stable/indexing.html#indexing-view-versus-copy\n",
      "  \n"
     ]
    }
   ],
   "source": [
    "corpus['char_count'] = corpus['documents'].map(len)\n",
    "corpus['word_count'] = corpus['documents'].map(lambda x: len(x.split()))"
   ]
  },
  {
   "cell_type": "code",
   "execution_count": 21,
   "metadata": {},
   "outputs": [
    {
     "data": {
      "text/plain": [
       "<matplotlib.legend.Legend at 0x1102d3b00>"
      ]
     },
     "execution_count": 21,
     "metadata": {},
     "output_type": "execute_result"
    },
    {
     "data": {
      "image/png": "[encoded data removed]",
      "text/plain": [
       "<Figure size 1440x720 with 1 Axes>"
      ]
     },
     "metadata": {},
     "output_type": "display_data"
    }
   ],
   "source": [
    "plt.figure(figsize=(20,10))\n",
    "plt.hist([corpus[corpus['subreddit']=='financialindependence']['char_count'], corpus[corpus['subreddit']=='personalfinance']['char_count']],\n",
    "         bins=50, color=['red', 'blue'], ec='k')\n",
    "plt.title('Character Count by Class', fontsize=30)\n",
    "plt.legend(['Financial Independence', 'Personal Finance'])"
   ]
  },
  {
   "cell_type": "code",
   "execution_count": 22,
   "metadata": {},
   "outputs": [
    {
     "data": {
      "text/plain": [
       "<matplotlib.legend.Legend at 0x1a1eda9d68>"
      ]
     },
     "execution_count": 22,
     "metadata": {},
     "output_type": "execute_result"
    },
    {
     "data": {
      "image/png": "[encoded data removed]",
      "text/plain": [
       "<Figure size 1440x720 with 1 Axes>"
      ]
     },
     "metadata": {},
     "output_type": "display_data"
    }
   ],
   "source": [
    "plt.figure(figsize=(20,10))\n",
    "plt.hist([corpus[corpus['subreddit']=='financialindependence']['word_count'],\n",
    "          corpus[corpus['subreddit']=='personalfinance']['word_count']],\n",
    "         bins=30, color=['red', 'blue'], ec='k')\n",
    "plt.title('Word Count by Class', fontsize=30)\n",
    "plt.legend(['Financial Independence', 'Personal Finance'])"
   ]
  },
  {
   "cell_type": "markdown",
   "metadata": {},
   "source": [
    "> Because there are a few posts in each subreddit that are outrageously long, I'm going to remove them to better visualize the word/character counts"
   ]
  },
  {
   "cell_type": "code",
   "execution_count": 23,
   "metadata": {},
   "outputs": [],
   "source": [
    "fewer_words = corpus[corpus['word_count'] < 1000]"
   ]
  },
  {
   "cell_type": "code",
   "execution_count": 24,
   "metadata": {},
   "outputs": [
    {
     "data": {
      "text/plain": [
       "<matplotlib.legend.Legend at 0x1a22ae1358>"
      ]
     },
     "execution_count": 24,
     "metadata": {},
     "output_type": "execute_result"
    },
    {
     "data": {
      "image/png": "[encoded data removed]",
      "text/plain": [
       "<Figure size 1440x720 with 1 Axes>"
      ]
     },
     "metadata": {},
     "output_type": "display_data"
    }
   ],
   "source": [
    "plt.figure(figsize=(20,10))\n",
    "plt.hist([fewer_words[fewer_words['subreddit']=='financialindependence']['char_count'],\n",
    "          fewer_words[fewer_words['subreddit']=='personalfinance']['char_count']],\n",
    "         bins=20, color=['red', 'blue'], ec='k')\n",
    "plt.title('Character Count by Class', fontsize=30)\n",
    "plt.legend(['Financial Independence', 'Personal Finance'])"
   ]
  },
  {
   "cell_type": "code",
   "execution_count": 25,
   "metadata": {},
   "outputs": [
    {
     "data": {
      "text/plain": [
       "<matplotlib.legend.Legend at 0x1a22b901d0>"
      ]
     },
     "execution_count": 25,
     "metadata": {},
     "output_type": "execute_result"
    },
    {
     "data": {
      "image/png": "[encoded data removed]",
      "text/plain": [
       "<Figure size 1440x720 with 1 Axes>"
      ]
     },
     "metadata": {},
     "output_type": "display_data"
    }
   ],
   "source": [
    "plt.figure(figsize=(20,10))\n",
    "plt.hist([fewer_words[fewer_words['subreddit']=='financialindependence']['word_count'],\n",
    "          fewer_words[fewer_words['subreddit']=='personalfinance']['word_count']],\n",
    "         bins=20, color=['red', 'blue'], ec='k')\n",
    "plt.title('Word Count by Class', fontsize=30)\n",
    "plt.legend(['Financial Independence', 'Personal Finance'])"
   ]
  },
  {
   "cell_type": "markdown",
   "metadata": {},
   "source": [
    "### `Count Vectorizer`\n",
    "Going to examine the features for both subreddits"
   ]
  },
  {
   "cell_type": "code",
   "execution_count": 26,
   "metadata": {},
   "outputs": [],
   "source": [
    "cvec = CountVectorizer()\n",
    "training_count_features = cvec.fit_transform(X_train)\n",
    "testing_count_features = cvec.transform(X_test)"
   ]
  },
  {
   "cell_type": "markdown",
   "metadata": {},
   "source": [
    "> Create a dataframe to analyze terms from `CountVectorizer`"
   ]
  },
  {
   "cell_type": "code",
   "execution_count": 27,
   "metadata": {},
   "outputs": [
    {
     "data": {
      "text/html": [
       "<div>\n",
       "<style scoped>\n",
       "    .dataframe tbody tr th:only-of-type {\n",
       "        vertical-align: middle;\n",
       "    }\n",
       "\n",
       "    .dataframe tbody tr th {\n",
       "        vertical-align: top;\n",
       "    }\n",
       "\n",
       "    .dataframe thead th {\n",
       "        text-align: right;\n",
       "    }\n",
       "</style>\n",
       "<table border=\"1\" class=\"dataframe\">\n",
       "  <thead>\n",
       "    <tr style=\"text-align: right;\">\n",
       "      <th></th>\n",
       "      <th>aa</th>\n",
       "      <th>aaa</th>\n",
       "      <th>aautomoderator</th>\n",
       "      <th>ab</th>\n",
       "      <th>aback</th>\n",
       "      <th>abandon</th>\n",
       "      <th>abandoned</th>\n",
       "      <th>abandoning</th>\n",
       "      <th>abbreviation</th>\n",
       "      <th>abdominal</th>\n",
       "      <th>...</th>\n",
       "      <th>zjt</th>\n",
       "      <th>zm</th>\n",
       "      <th>zmw</th>\n",
       "      <th>zone</th>\n",
       "      <th>zqdh</th>\n",
       "      <th>zswwuthtsesbca</th>\n",
       "      <th>zvtsjgdn</th>\n",
       "      <th>zw</th>\n",
       "      <th>zx</th>\n",
       "      <th>subreddit_class</th>\n",
       "    </tr>\n",
       "  </thead>\n",
       "  <tbody>\n",
       "    <tr>\n",
       "      <th>0</th>\n",
       "      <td>0</td>\n",
       "      <td>0</td>\n",
       "      <td>0</td>\n",
       "      <td>0</td>\n",
       "      <td>0</td>\n",
       "      <td>0</td>\n",
       "      <td>0</td>\n",
       "      <td>0</td>\n",
       "      <td>0</td>\n",
       "      <td>0</td>\n",
       "      <td>...</td>\n",
       "      <td>0</td>\n",
       "      <td>0</td>\n",
       "      <td>0</td>\n",
       "      <td>0</td>\n",
       "      <td>0</td>\n",
       "      <td>0</td>\n",
       "      <td>0</td>\n",
       "      <td>0</td>\n",
       "      <td>0</td>\n",
       "      <td>0</td>\n",
       "    </tr>\n",
       "    <tr>\n",
       "      <th>1</th>\n",
       "      <td>0</td>\n",
       "      <td>0</td>\n",
       "      <td>0</td>\n",
       "      <td>0</td>\n",
       "      <td>0</td>\n",
       "      <td>0</td>\n",
       "      <td>0</td>\n",
       "      <td>0</td>\n",
       "      <td>0</td>\n",
       "      <td>0</td>\n",
       "      <td>...</td>\n",
       "      <td>0</td>\n",
       "      <td>0</td>\n",
       "      <td>0</td>\n",
       "      <td>0</td>\n",
       "      <td>0</td>\n",
       "      <td>0</td>\n",
       "      <td>0</td>\n",
       "      <td>0</td>\n",
       "      <td>0</td>\n",
       "      <td>0</td>\n",
       "    </tr>\n",
       "    <tr>\n",
       "      <th>2</th>\n",
       "      <td>0</td>\n",
       "      <td>0</td>\n",
       "      <td>0</td>\n",
       "      <td>0</td>\n",
       "      <td>0</td>\n",
       "      <td>0</td>\n",
       "      <td>0</td>\n",
       "      <td>0</td>\n",
       "      <td>0</td>\n",
       "      <td>0</td>\n",
       "      <td>...</td>\n",
       "      <td>0</td>\n",
       "      <td>0</td>\n",
       "      <td>0</td>\n",
       "      <td>0</td>\n",
       "      <td>0</td>\n",
       "      <td>0</td>\n",
       "      <td>0</td>\n",
       "      <td>0</td>\n",
       "      <td>0</td>\n",
       "      <td>1</td>\n",
       "    </tr>\n",
       "    <tr>\n",
       "      <th>3</th>\n",
       "      <td>0</td>\n",
       "      <td>0</td>\n",
       "      <td>0</td>\n",
       "      <td>0</td>\n",
       "      <td>0</td>\n",
       "      <td>0</td>\n",
       "      <td>0</td>\n",
       "      <td>0</td>\n",
       "      <td>0</td>\n",
       "      <td>0</td>\n",
       "      <td>...</td>\n",
       "      <td>0</td>\n",
       "      <td>0</td>\n",
       "      <td>0</td>\n",
       "      <td>0</td>\n",
       "      <td>0</td>\n",
       "      <td>0</td>\n",
       "      <td>0</td>\n",
       "      <td>0</td>\n",
       "      <td>0</td>\n",
       "      <td>0</td>\n",
       "    </tr>\n",
       "    <tr>\n",
       "      <th>4</th>\n",
       "      <td>0</td>\n",
       "      <td>0</td>\n",
       "      <td>0</td>\n",
       "      <td>0</td>\n",
       "      <td>0</td>\n",
       "      <td>0</td>\n",
       "      <td>0</td>\n",
       "      <td>0</td>\n",
       "      <td>0</td>\n",
       "      <td>0</td>\n",
       "      <td>...</td>\n",
       "      <td>0</td>\n",
       "      <td>0</td>\n",
       "      <td>0</td>\n",
       "      <td>0</td>\n",
       "      <td>0</td>\n",
       "      <td>0</td>\n",
       "      <td>0</td>\n",
       "      <td>0</td>\n",
       "      <td>0</td>\n",
       "      <td>1</td>\n",
       "    </tr>\n",
       "  </tbody>\n",
       "</table>\n",
       "<p>5 rows × 9641 columns</p>\n",
       "</div>"
      ],
      "text/plain": [
       "   aa  aaa  aautomoderator  ab  aback  abandon  abandoned  abandoning  \\\n",
       "0   0    0               0   0      0        0          0           0   \n",
       "1   0    0               0   0      0        0          0           0   \n",
       "2   0    0               0   0      0        0          0           0   \n",
       "3   0    0               0   0      0        0          0           0   \n",
       "4   0    0               0   0      0        0          0           0   \n",
       "\n",
       "   abbreviation  abdominal       ...         zjt  zm  zmw  zone  zqdh  \\\n",
       "0             0          0       ...           0   0    0     0     0   \n",
       "1             0          0       ...           0   0    0     0     0   \n",
       "2             0          0       ...           0   0    0     0     0   \n",
       "3             0          0       ...           0   0    0     0     0   \n",
       "4             0          0       ...           0   0    0     0     0   \n",
       "\n",
       "   zswwuthtsesbca  zvtsjgdn  zw  zx  subreddit_class  \n",
       "0               0         0   0   0                0  \n",
       "1               0         0   0   0                0  \n",
       "2               0         0   0   0                1  \n",
       "3               0         0   0   0                0  \n",
       "4               0         0   0   0                1  \n",
       "\n",
       "[5 rows x 9641 columns]"
      ]
     },
     "execution_count": 27,
     "metadata": {},
     "output_type": "execute_result"
    }
   ],
   "source": [
    "term_df = pd.DataFrame(training_count_features.toarray(), columns  = cvec.get_feature_names())\n",
    "term_df['subreddit_class'] = y_train.values\n",
    "\n",
    "term_df.head()"
   ]
  },
  {
   "cell_type": "code",
   "execution_count": 28,
   "metadata": {},
   "outputs": [
    {
     "data": {
      "text/plain": [
       "(1481, 9641)"
      ]
     },
     "execution_count": 28,
     "metadata": {},
     "output_type": "execute_result"
    }
   ],
   "source": [
    "term_df.shape"
   ]
  },
  {
   "cell_type": "code",
   "execution_count": 29,
   "metadata": {
    "scrolled": true
   },
   "outputs": [
    {
     "name": "stdout",
     "output_type": "stream",
     "text": [
      "<class 'pandas.core.frame.DataFrame'>\n",
      "RangeIndex: 1481 entries, 0 to 1480\n",
      "Data columns (total 1 columns):\n",
      "subreddit_class    1481 non-null int64\n",
      "dtypes: int64(1)\n",
      "memory usage: 11.6 KB\n"
     ]
    }
   ],
   "source": [
    "term_df[['subreddit_class']].info()"
   ]
  },
  {
   "cell_type": "code",
   "execution_count": 30,
   "metadata": {},
   "outputs": [
    {
     "data": {
      "text/plain": [
       "1    746\n",
       "0    735\n",
       "Name: subreddit_class, dtype: int64"
      ]
     },
     "execution_count": 30,
     "metadata": {},
     "output_type": "execute_result"
    }
   ],
   "source": [
    "term_df['subreddit_class'].value_counts()"
   ]
  },
  {
   "cell_type": "markdown",
   "metadata": {},
   "source": [
    "#### Most Frequent Words"
   ]
  },
  {
   "cell_type": "code",
   "execution_count": 31,
   "metadata": {
    "scrolled": true
   },
   "outputs": [
    {
     "name": "stdout",
     "output_type": "stream",
     "text": [
      "===== Personal Finance (1.0) =====\n",
      "subreddit_class         0         1\n",
      "year             1.881633  1.178284\n",
      "credit           0.057143  1.083110\n",
      "would            0.896599  0.882038\n",
      "month            0.536054  0.729223\n",
      "account          0.387755  0.723861\n",
      "pay              0.413605  0.683646\n",
      "loan             0.201361  0.679625\n",
      "card             0.054422  0.675603\n",
      "money            0.719728  0.648794\n",
      "get              0.665306  0.640751 \n",
      "\n",
      "===== Financial Independence (0.0) =====\n",
      "subreddit_class         0         1\n",
      "year             1.881633  1.178284\n",
      "would            0.896599  0.882038\n",
      "work             0.816327  0.302949\n",
      "like             0.801361  0.513405\n",
      "time             0.780952  0.474531\n",
      "money            0.719728  0.648794\n",
      "fire             0.703401  0.006702\n",
      "job              0.688435  0.481233\n",
      "income           0.674830  0.333780\n",
      "get              0.665306  0.640751\n"
     ]
    }
   ],
   "source": [
    "print('===== Personal Finance (1.0) =====')\n",
    "print(term_df.groupby('subreddit_class').mean().T.sort_values(by = 1.0, ascending = False).head(10), '\\n')\n",
    "print('===== Financial Independence (0.0) =====')\n",
    "print(term_df.groupby('subreddit_class').mean().T.sort_values(by = 0.0, ascending = False).head(10))"
   ]
  },
  {
   "cell_type": "markdown",
   "metadata": {},
   "source": [
    "#### Least Frequent Words"
   ]
  },
  {
   "cell_type": "code",
   "execution_count": 32,
   "metadata": {},
   "outputs": [
    {
     "name": "stdout",
     "output_type": "stream",
     "text": [
      "===== Personal Finance (1.0) =====\n",
      "subreddit_class         0    1\n",
      "lcol             0.046259  0.0\n",
      "lit              0.001361  0.0\n",
      "lisbon           0.002721  0.0\n",
      "linux            0.001361  0.0\n",
      "linkedin         0.005442  0.0\n",
      "lining           0.001361  0.0\n",
      "linear           0.002721  0.0\n",
      "limitless        0.002721  0.0\n",
      "limitation       0.001361  0.0\n",
      "limb             0.002721  0.0 \n",
      "\n",
      "===== Financial Independence (0.0) =====\n",
      "subreddit_class    0         1\n",
      "comply           0.0  0.001340\n",
      "preschool        0.0  0.001340\n",
      "credible         0.0  0.001340\n",
      "credited         0.0  0.004021\n",
      "creditkarma      0.0  0.005362\n",
      "stray            0.0  0.001340\n",
      "creditwise       0.0  0.001340\n",
      "implicate        0.0  0.001340\n",
      "implemented      0.0  0.001340\n",
      "creeper          0.0  0.001340\n"
     ]
    }
   ],
   "source": [
    "print('===== Personal Finance (1.0) =====')\n",
    "print(term_df.groupby('subreddit_class').mean().T.sort_values(by = 1.0, ascending = True).head(10), '\\n')\n",
    "print('===== Financial Independence (0.0) =====')\n",
    "print(term_df.groupby('subreddit_class').mean().T.sort_values(by = 0.0, ascending = True).head(10))"
   ]
  },
  {
   "cell_type": "markdown",
   "metadata": {},
   "source": [
    "Going to look at the words with the greatest difference in frequency between the two classes"
   ]
  },
  {
   "cell_type": "code",
   "execution_count": 33,
   "metadata": {
    "scrolled": false
   },
   "outputs": [
    {
     "data": {
      "text/html": [
       "<div>\n",
       "<style scoped>\n",
       "    .dataframe tbody tr th:only-of-type {\n",
       "        vertical-align: middle;\n",
       "    }\n",
       "\n",
       "    .dataframe tbody tr th {\n",
       "        vertical-align: top;\n",
       "    }\n",
       "\n",
       "    .dataframe thead th {\n",
       "        text-align: right;\n",
       "    }\n",
       "</style>\n",
       "<table border=\"1\" class=\"dataframe\">\n",
       "  <thead>\n",
       "    <tr style=\"text-align: right;\">\n",
       "      <th>subreddit_class</th>\n",
       "      <th>0</th>\n",
       "      <th>1</th>\n",
       "      <th>difference</th>\n",
       "    </tr>\n",
       "  </thead>\n",
       "  <tbody>\n",
       "    <tr>\n",
       "      <th>credit</th>\n",
       "      <td>0.057143</td>\n",
       "      <td>1.083110</td>\n",
       "      <td>1.025967</td>\n",
       "    </tr>\n",
       "    <tr>\n",
       "      <th>year</th>\n",
       "      <td>1.881633</td>\n",
       "      <td>1.178284</td>\n",
       "      <td>0.703348</td>\n",
       "    </tr>\n",
       "    <tr>\n",
       "      <th>fire</th>\n",
       "      <td>0.703401</td>\n",
       "      <td>0.006702</td>\n",
       "      <td>0.696699</td>\n",
       "    </tr>\n",
       "    <tr>\n",
       "      <th>card</th>\n",
       "      <td>0.054422</td>\n",
       "      <td>0.675603</td>\n",
       "      <td>0.621181</td>\n",
       "    </tr>\n",
       "    <tr>\n",
       "      <th>fi</th>\n",
       "      <td>0.521088</td>\n",
       "      <td>0.001340</td>\n",
       "      <td>0.519748</td>\n",
       "    </tr>\n",
       "    <tr>\n",
       "      <th>work</th>\n",
       "      <td>0.816327</td>\n",
       "      <td>0.302949</td>\n",
       "      <td>0.513377</td>\n",
       "    </tr>\n",
       "    <tr>\n",
       "      <th>loan</th>\n",
       "      <td>0.201361</td>\n",
       "      <td>0.679625</td>\n",
       "      <td>0.478264</td>\n",
       "    </tr>\n",
       "    <tr>\n",
       "      <th>post</th>\n",
       "      <td>0.542857</td>\n",
       "      <td>0.084450</td>\n",
       "      <td>0.458407</td>\n",
       "    </tr>\n",
       "    <tr>\n",
       "      <th>retirement</th>\n",
       "      <td>0.534694</td>\n",
       "      <td>0.184987</td>\n",
       "      <td>0.349707</td>\n",
       "    </tr>\n",
       "    <tr>\n",
       "      <th>income</th>\n",
       "      <td>0.674830</td>\n",
       "      <td>0.333780</td>\n",
       "      <td>0.341050</td>\n",
       "    </tr>\n",
       "    <tr>\n",
       "      <th>car</th>\n",
       "      <td>0.212245</td>\n",
       "      <td>0.549598</td>\n",
       "      <td>0.337353</td>\n",
       "    </tr>\n",
       "    <tr>\n",
       "      <th>account</th>\n",
       "      <td>0.387755</td>\n",
       "      <td>0.723861</td>\n",
       "      <td>0.336105</td>\n",
       "    </tr>\n",
       "    <tr>\n",
       "      <th>life</th>\n",
       "      <td>0.487075</td>\n",
       "      <td>0.155496</td>\n",
       "      <td>0.331579</td>\n",
       "    </tr>\n",
       "    <tr>\n",
       "      <th>payment</th>\n",
       "      <td>0.160544</td>\n",
       "      <td>0.475871</td>\n",
       "      <td>0.315327</td>\n",
       "    </tr>\n",
       "    <tr>\n",
       "      <th>time</th>\n",
       "      <td>0.780952</td>\n",
       "      <td>0.474531</td>\n",
       "      <td>0.306422</td>\n",
       "    </tr>\n",
       "    <tr>\n",
       "      <th>people</th>\n",
       "      <td>0.416327</td>\n",
       "      <td>0.119303</td>\n",
       "      <td>0.297024</td>\n",
       "    </tr>\n",
       "    <tr>\n",
       "      <th>like</th>\n",
       "      <td>0.801361</td>\n",
       "      <td>0.513405</td>\n",
       "      <td>0.287956</td>\n",
       "    </tr>\n",
       "    <tr>\n",
       "      <th>debt</th>\n",
       "      <td>0.213605</td>\n",
       "      <td>0.493298</td>\n",
       "      <td>0.279692</td>\n",
       "    </tr>\n",
       "    <tr>\n",
       "      <th>http</th>\n",
       "      <td>0.340136</td>\n",
       "      <td>0.069705</td>\n",
       "      <td>0.270431</td>\n",
       "    </tr>\n",
       "    <tr>\n",
       "      <th>pay</th>\n",
       "      <td>0.413605</td>\n",
       "      <td>0.683646</td>\n",
       "      <td>0.270041</td>\n",
       "    </tr>\n",
       "  </tbody>\n",
       "</table>\n",
       "</div>"
      ],
      "text/plain": [
       "subreddit_class         0         1  difference\n",
       "credit           0.057143  1.083110    1.025967\n",
       "year             1.881633  1.178284    0.703348\n",
       "fire             0.703401  0.006702    0.696699\n",
       "card             0.054422  0.675603    0.621181\n",
       "fi               0.521088  0.001340    0.519748\n",
       "work             0.816327  0.302949    0.513377\n",
       "loan             0.201361  0.679625    0.478264\n",
       "post             0.542857  0.084450    0.458407\n",
       "retirement       0.534694  0.184987    0.349707\n",
       "income           0.674830  0.333780    0.341050\n",
       "car              0.212245  0.549598    0.337353\n",
       "account          0.387755  0.723861    0.336105\n",
       "life             0.487075  0.155496    0.331579\n",
       "payment          0.160544  0.475871    0.315327\n",
       "time             0.780952  0.474531    0.306422\n",
       "people           0.416327  0.119303    0.297024\n",
       "like             0.801361  0.513405    0.287956\n",
       "debt             0.213605  0.493298    0.279692\n",
       "http             0.340136  0.069705    0.270431\n",
       "pay              0.413605  0.683646    0.270041"
      ]
     },
     "execution_count": 33,
     "metadata": {},
     "output_type": "execute_result"
    }
   ],
   "source": [
    "term_frequencies = term_df.groupby('subreddit_class').mean().T\n",
    "term_frequencies['difference'] = abs(term_frequencies[1.0] - term_frequencies[0.0])\n",
    "term_frequencies.sort_values('difference', ascending = False).head(20)"
   ]
  },
  {
   "cell_type": "code",
   "execution_count": 34,
   "metadata": {},
   "outputs": [
    {
     "data": {
      "text/html": [
       "<div>\n",
       "<style scoped>\n",
       "    .dataframe tbody tr th:only-of-type {\n",
       "        vertical-align: middle;\n",
       "    }\n",
       "\n",
       "    .dataframe tbody tr th {\n",
       "        vertical-align: top;\n",
       "    }\n",
       "\n",
       "    .dataframe thead th {\n",
       "        text-align: right;\n",
       "    }\n",
       "</style>\n",
       "<table border=\"1\" class=\"dataframe\">\n",
       "  <thead>\n",
       "    <tr style=\"text-align: right;\">\n",
       "      <th>subreddit_class</th>\n",
       "      <th>0</th>\n",
       "      <th>1</th>\n",
       "      <th>difference</th>\n",
       "    </tr>\n",
       "  </thead>\n",
       "  <tbody>\n",
       "    <tr>\n",
       "      <th>credit</th>\n",
       "      <td>42</td>\n",
       "      <td>808</td>\n",
       "      <td>766</td>\n",
       "    </tr>\n",
       "    <tr>\n",
       "      <th>fire</th>\n",
       "      <td>517</td>\n",
       "      <td>5</td>\n",
       "      <td>512</td>\n",
       "    </tr>\n",
       "    <tr>\n",
       "      <th>year</th>\n",
       "      <td>1383</td>\n",
       "      <td>879</td>\n",
       "      <td>504</td>\n",
       "    </tr>\n",
       "    <tr>\n",
       "      <th>card</th>\n",
       "      <td>40</td>\n",
       "      <td>504</td>\n",
       "      <td>464</td>\n",
       "    </tr>\n",
       "    <tr>\n",
       "      <th>fi</th>\n",
       "      <td>383</td>\n",
       "      <td>1</td>\n",
       "      <td>382</td>\n",
       "    </tr>\n",
       "    <tr>\n",
       "      <th>work</th>\n",
       "      <td>600</td>\n",
       "      <td>226</td>\n",
       "      <td>374</td>\n",
       "    </tr>\n",
       "    <tr>\n",
       "      <th>loan</th>\n",
       "      <td>148</td>\n",
       "      <td>507</td>\n",
       "      <td>359</td>\n",
       "    </tr>\n",
       "    <tr>\n",
       "      <th>post</th>\n",
       "      <td>399</td>\n",
       "      <td>63</td>\n",
       "      <td>336</td>\n",
       "    </tr>\n",
       "    <tr>\n",
       "      <th>account</th>\n",
       "      <td>285</td>\n",
       "      <td>540</td>\n",
       "      <td>255</td>\n",
       "    </tr>\n",
       "    <tr>\n",
       "      <th>retirement</th>\n",
       "      <td>393</td>\n",
       "      <td>138</td>\n",
       "      <td>255</td>\n",
       "    </tr>\n",
       "    <tr>\n",
       "      <th>car</th>\n",
       "      <td>156</td>\n",
       "      <td>410</td>\n",
       "      <td>254</td>\n",
       "    </tr>\n",
       "    <tr>\n",
       "      <th>income</th>\n",
       "      <td>496</td>\n",
       "      <td>249</td>\n",
       "      <td>247</td>\n",
       "    </tr>\n",
       "    <tr>\n",
       "      <th>life</th>\n",
       "      <td>358</td>\n",
       "      <td>116</td>\n",
       "      <td>242</td>\n",
       "    </tr>\n",
       "    <tr>\n",
       "      <th>payment</th>\n",
       "      <td>118</td>\n",
       "      <td>355</td>\n",
       "      <td>237</td>\n",
       "    </tr>\n",
       "    <tr>\n",
       "      <th>time</th>\n",
       "      <td>574</td>\n",
       "      <td>354</td>\n",
       "      <td>220</td>\n",
       "    </tr>\n",
       "    <tr>\n",
       "      <th>people</th>\n",
       "      <td>306</td>\n",
       "      <td>89</td>\n",
       "      <td>217</td>\n",
       "    </tr>\n",
       "    <tr>\n",
       "      <th>debt</th>\n",
       "      <td>157</td>\n",
       "      <td>368</td>\n",
       "      <td>211</td>\n",
       "    </tr>\n",
       "    <tr>\n",
       "      <th>pay</th>\n",
       "      <td>304</td>\n",
       "      <td>510</td>\n",
       "      <td>206</td>\n",
       "    </tr>\n",
       "    <tr>\n",
       "      <th>like</th>\n",
       "      <td>589</td>\n",
       "      <td>383</td>\n",
       "      <td>206</td>\n",
       "    </tr>\n",
       "    <tr>\n",
       "      <th>http</th>\n",
       "      <td>250</td>\n",
       "      <td>52</td>\n",
       "      <td>198</td>\n",
       "    </tr>\n",
       "  </tbody>\n",
       "</table>\n",
       "</div>"
      ],
      "text/plain": [
       "subreddit_class     0    1  difference\n",
       "credit             42  808         766\n",
       "fire              517    5         512\n",
       "year             1383  879         504\n",
       "card               40  504         464\n",
       "fi                383    1         382\n",
       "work              600  226         374\n",
       "loan              148  507         359\n",
       "post              399   63         336\n",
       "account           285  540         255\n",
       "retirement        393  138         255\n",
       "car               156  410         254\n",
       "income            496  249         247\n",
       "life              358  116         242\n",
       "payment           118  355         237\n",
       "time              574  354         220\n",
       "people            306   89         217\n",
       "debt              157  368         211\n",
       "pay               304  510         206\n",
       "like              589  383         206\n",
       "http              250   52         198"
      ]
     },
     "execution_count": 34,
     "metadata": {},
     "output_type": "execute_result"
    }
   ],
   "source": [
    "term_frequencies = term_df.groupby('subreddit_class').sum().T\n",
    "term_frequencies['difference'] = abs(term_frequencies[1.0] - term_frequencies[0.0])\n",
    "term_frequencies.sort_values('difference', ascending = False).head(20)"
   ]
  },
  {
   "cell_type": "code",
   "execution_count": 35,
   "metadata": {},
   "outputs": [
    {
     "name": "stdout",
     "output_type": "stream",
     "text": [
      "Training Score:  0.8811580754038317\n",
      "Testing Score:  0.8927125506072875\n"
     ]
    }
   ],
   "source": [
    "multi_nb = MultinomialNB()\n",
    "print('Training Score: ', cross_val_score(multi_nb, training_count_features, y_train).mean())\n",
    "\n",
    "multi_nb.fit(training_count_features, y_train)\n",
    "print('Testing Score: ', multi_nb.score(testing_count_features, y_test))"
   ]
  },
  {
   "cell_type": "markdown",
   "metadata": {},
   "source": [
    "**Evaluating the predictions**"
   ]
  },
  {
   "cell_type": "code",
   "execution_count": 36,
   "metadata": {},
   "outputs": [],
   "source": [
    "y_pred = multi_nb.predict(testing_count_features)"
   ]
  },
  {
   "cell_type": "code",
   "execution_count": 37,
   "metadata": {},
   "outputs": [
    {
     "data": {
      "text/plain": [
       "array([[236,  17],\n",
       "       [ 36, 205]])"
      ]
     },
     "execution_count": 37,
     "metadata": {},
     "output_type": "execute_result"
    }
   ],
   "source": [
    "confusion_matrix(y_test, y_pred)"
   ]
  },
  {
   "cell_type": "markdown",
   "metadata": {},
   "source": [
    "- True Positive: Predicted & Actual == `personalfinance`\n",
    "- True Negative: Predicted & Actual == `financialindependence`\n",
    "- False Positive: Predicted == `personalfinance`, Actual == `financialindependence`\n",
    "- False Negative: Predicted == `financialindependence`, Actual == `personalfinance`"
   ]
  },
  {
   "cell_type": "markdown",
   "metadata": {
    "focus": false,
    "id": "04563b69-f7b6-466f-9d65-fc62c9ddee6a"
   },
   "source": [
    "## Predicting subreddit using Random Forests + Another Classifier"
   ]
  },
  {
   "cell_type": "markdown",
   "metadata": {},
   "source": [
    "#### `MultinomialNB`"
   ]
  },
  {
   "cell_type": "code",
   "execution_count": 38,
   "metadata": {
    "focus": false,
    "id": "588f9845-6143-4bcc-bfd1-85d45b79303d"
   },
   "outputs": [
    {
     "data": {
      "text/plain": [
       "GridSearchCV(cv=None, error_score='raise',\n",
       "       estimator=Pipeline(memory=None,\n",
       "     steps=[('cvec', CountVectorizer(analyzer='word', binary=False, decode_error='strict',\n",
       "        dtype=<class 'numpy.int64'>, encoding='utf-8', input='content',\n",
       "        lowercase=True, max_df=1.0, max_features=None, min_df=1,\n",
       "        ngram_range=(1, 1), preprocessor...zer=None, vocabulary=None)), ('model', MultinomialNB(alpha=1.0, class_prior=None, fit_prior=True))]),\n",
       "       fit_params=None, iid=True, n_jobs=1,\n",
       "       param_grid={'cvec__max_features': [3000, 4000, 5000], 'cvec__ngram_range': [(1, 1), (1, 2)], 'cvec__binary': [True, False], 'cvec__max_df': [0.8, 0.9, 1.0]},\n",
       "       pre_dispatch='2*n_jobs', refit=True, return_train_score='warn',\n",
       "       scoring=None, verbose=0)"
      ]
     },
     "execution_count": 38,
     "metadata": {},
     "output_type": "execute_result"
    }
   ],
   "source": [
    "cvec = CountVectorizer()\n",
    "model = MultinomialNB()\n",
    "\n",
    "pipe = Pipeline([\n",
    "    ('cvec', cvec),\n",
    "    ('model', model)\n",
    "])\n",
    "\n",
    "params = {\n",
    "    'cvec__max_features': [3000, 4000, 5000],\n",
    "    'cvec__ngram_range': [(1,1), (1,2)],\n",
    "    'cvec__binary': [True, False],\n",
    "    'cvec__max_df': [0.8, 0.9, 1.0]\n",
    "}\n",
    "\n",
    "gs = GridSearchCV(pipe, param_grid = params)\n",
    "gs.fit(X_train, y_train)"
   ]
  },
  {
   "cell_type": "code",
   "execution_count": 39,
   "metadata": {
    "scrolled": true
   },
   "outputs": [
    {
     "name": "stdout",
     "output_type": "stream",
     "text": [
      "CV Accuracy Score:  0.8919648885887913\n",
      "Test Accuracy Score:  0.8967611336032388\n",
      "{'cvec__binary': True, 'cvec__max_df': 0.8, 'cvec__max_features': 5000, 'cvec__ngram_range': (1, 1)}\n"
     ]
    }
   ],
   "source": [
    "print('CV Accuracy Score: ', gs.best_score_)\n",
    "print('Test Accuracy Score: ', gs.score(X_test, y_test))\n",
    "print(gs.best_params_)"
   ]
  },
  {
   "cell_type": "markdown",
   "metadata": {},
   "source": [
    "> Wonder what using the `TfidfVectorizer` would do..."
   ]
  },
  {
   "cell_type": "code",
   "execution_count": 40,
   "metadata": {
    "scrolled": true
   },
   "outputs": [
    {
     "data": {
      "text/plain": [
       "GridSearchCV(cv=None, error_score='raise',\n",
       "       estimator=Pipeline(memory=None,\n",
       "     steps=[('tfidf', TfidfVectorizer(analyzer='word', binary=False, decode_error='strict',\n",
       "        dtype=<class 'numpy.int64'>, encoding='utf-8', input='content',\n",
       "        lowercase=True, max_df=1.0, max_features=None, min_df=1,\n",
       "        ngram_range=(1, 1), norm='l2', preprocessor=None, smooth_idf=True,\n",
       " ...e,\n",
       "        vocabulary=None)), ('model', MultinomialNB(alpha=1.0, class_prior=None, fit_prior=True))]),\n",
       "       fit_params=None, iid=True, n_jobs=1,\n",
       "       param_grid={'tfidf__max_features': [2000, 3000, 4000], 'tfidf__ngram_range': [(1, 1), (1, 2)]},\n",
       "       pre_dispatch='2*n_jobs', refit=True, return_train_score='warn',\n",
       "       scoring=None, verbose=0)"
      ]
     },
     "execution_count": 40,
     "metadata": {},
     "output_type": "execute_result"
    }
   ],
   "source": [
    "tfidf = TfidfVectorizer()\n",
    "model = MultinomialNB()\n",
    "\n",
    "pipe = Pipeline([\n",
    "    ('tfidf', tfidf),\n",
    "    ('model', model)\n",
    "])\n",
    "\n",
    "params = {\n",
    "    'tfidf__max_features': [2000, 3000, 4000],\n",
    "    'tfidf__ngram_range': [(1,1), (1,2)],\n",
    "}\n",
    "\n",
    "gs = GridSearchCV(pipe, param_grid = params)\n",
    "gs.fit(X_train, y_train)"
   ]
  },
  {
   "cell_type": "code",
   "execution_count": 41,
   "metadata": {
    "scrolled": true
   },
   "outputs": [
    {
     "name": "stdout",
     "output_type": "stream",
     "text": [
      "CV Accuracy Score:  0.8825118163403106\n",
      "Test Accuracy Score:  0.8765182186234818\n",
      "{'tfidf__max_features': 3000, 'tfidf__ngram_range': (1, 1)}\n"
     ]
    }
   ],
   "source": [
    "print('CV Accuracy Score: ', gs.best_score_)\n",
    "print('Test Accuracy Score: ', gs.score(X_test, y_test))\n",
    "print(gs.best_params_)"
   ]
  },
  {
   "cell_type": "markdown",
   "metadata": {
    "focus": false,
    "id": "4fb29de2-5b98-474c-a4ad-5170b72b9aea"
   },
   "source": [
    "#### Create a `RandomForestClassifier` model to predict which subreddit a given post belongs to."
   ]
  },
  {
   "cell_type": "code",
   "execution_count": 42,
   "metadata": {
    "focus": false,
    "id": "ddbc6159-6854-4ca7-857f-bfecdaf6d9c2"
   },
   "outputs": [
    {
     "data": {
      "text/plain": [
       "GridSearchCV(cv=None, error_score='raise',\n",
       "       estimator=Pipeline(memory=None,\n",
       "     steps=[('cvec', CountVectorizer(analyzer='word', binary=False, decode_error='strict',\n",
       "        dtype=<class 'numpy.int64'>, encoding='utf-8', input='content',\n",
       "        lowercase=True, max_df=1.0, max_features=None, min_df=1,\n",
       "        ngram_range=(1, 1), preprocessor=None, stop_words=None,\n",
       "        strip...n_jobs=1,\n",
       "            oob_score=False, random_state=None, verbose=0,\n",
       "            warm_start=False))]),\n",
       "       fit_params=None, iid=True, n_jobs=1,\n",
       "       param_grid={'cvec__binary': [True, False], 'cvec__ngram_range': [(1, 1), (1, 2)], 'model__max_depth': [250, 500], 'model__n_estimators': [1000]},\n",
       "       pre_dispatch='2*n_jobs', refit=True, return_train_score='warn',\n",
       "       scoring=None, verbose=0)"
      ]
     },
     "execution_count": 42,
     "metadata": {},
     "output_type": "execute_result"
    }
   ],
   "source": [
    "cvec = CountVectorizer()\n",
    "model = RandomForestClassifier()\n",
    "\n",
    "pipe = Pipeline([\n",
    "    ('cvec', cvec),\n",
    "    ('model', model)\n",
    "])\n",
    "\n",
    "params = {\n",
    "    'cvec__binary': [True, False],\n",
    "    'cvec__ngram_range': [(1,1), (1,2)],\n",
    "    'model__max_depth': [250, 500],\n",
    "    'model__n_estimators': [1000]\n",
    "}\n",
    "\n",
    "gs = GridSearchCV(pipe, param_grid = params)\n",
    "gs.fit(X_train, y_train)"
   ]
  },
  {
   "cell_type": "code",
   "execution_count": 43,
   "metadata": {},
   "outputs": [
    {
     "name": "stdout",
     "output_type": "stream",
     "text": [
      "CV Accuracy Score:  0.9081701553004726\n",
      "Test Accuracy Score:  0.9089068825910931\n",
      "{'cvec__binary': False, 'cvec__ngram_range': (1, 1), 'model__max_depth': 500, 'model__n_estimators': 1000}\n"
     ]
    }
   ],
   "source": [
    "print('CV Accuracy Score: ', gs.best_score_)\n",
    "print('Test Accuracy Score: ', gs.score(X_test, y_test))\n",
    "print(gs.best_params_)"
   ]
  },
  {
   "cell_type": "code",
   "execution_count": 44,
   "metadata": {},
   "outputs": [
    {
     "data": {
      "text/plain": [
       "array([1.63741119e-05, 4.38626969e-06, 3.71694099e-05, ...,\n",
       "       4.94010187e-06, 8.60679658e-06, 4.82326213e-08])"
      ]
     },
     "execution_count": 44,
     "metadata": {},
     "output_type": "execute_result"
    }
   ],
   "source": [
    "gs.best_estimator_.steps[1][1].feature_importances_"
   ]
  },
  {
   "cell_type": "code",
   "execution_count": 45,
   "metadata": {},
   "outputs": [],
   "source": [
    "y_pred = gs.best_estimator_.predict(X_test)"
   ]
  },
  {
   "cell_type": "code",
   "execution_count": 46,
   "metadata": {},
   "outputs": [
    {
     "data": {
      "text/plain": [
       "array([[232,  21],\n",
       "       [ 24, 217]])"
      ]
     },
     "execution_count": 46,
     "metadata": {},
     "output_type": "execute_result"
    }
   ],
   "source": [
    "confusion_matrix(y_test, y_pred)"
   ]
  },
  {
   "cell_type": "markdown",
   "metadata": {},
   "source": [
    "**Confusion Matrix Results**  \n",
    "232 True Negative (Predicted & Actual == Financial Independence)  \n",
    "21 False Positive (Predicted Personal Finance, Actual Financial Independence)  \n",
    "21 False Negative (Predicted Financial Independence, Actual Personal Finance)  \n",
    "220 True Positive (Predicted & Actual == Personal Finance)"
   ]
  },
  {
   "cell_type": "code",
   "execution_count": 54,
   "metadata": {},
   "outputs": [
    {
     "data": {
      "text/plain": [
       "GridSearchCV(cv=None, error_score='raise',\n",
       "       estimator=Pipeline(memory=None,\n",
       "     steps=[('cvec', CountVectorizer(analyzer='word', binary=False, decode_error='strict',\n",
       "        dtype=<class 'numpy.int64'>, encoding='utf-8', input='content',\n",
       "        lowercase=True, max_df=1.0, max_features=None, min_df=1,\n",
       "        ngram_range=(1, 1), preprocessor=None, stop_words=None,\n",
       "        strip...ty='l2', random_state=None, solver='liblinear', tol=0.0001,\n",
       "          verbose=0, warm_start=False))]),\n",
       "       fit_params=None, iid=True, n_jobs=1,\n",
       "       param_grid={'cvec__binary': [True, False], 'cvec__max_df': [3000, 4000, 5000], 'model__penalty': ['l1', 'l2']},\n",
       "       pre_dispatch='2*n_jobs', refit=True, return_train_score='warn',\n",
       "       scoring=None, verbose=0)"
      ]
     },
     "execution_count": 54,
     "metadata": {},
     "output_type": "execute_result"
    }
   ],
   "source": [
    "cvec = CountVectorizer()\n",
    "model = LogisticRegression()\n",
    "\n",
    "pipe = Pipeline([\n",
    "    ('cvec', cvec),\n",
    "    ('model', model)\n",
    "])\n",
    "\n",
    "params = {\n",
    "    'cvec__binary': [True, False],\n",
    "    'cvec__max_df': [3000, 4000, 5000],\n",
    "    'model__penalty': ['l1', 'l2']\n",
    "}\n",
    "\n",
    "gs = GridSearchCV(pipe, param_grid = params)\n",
    "gs.fit(X_train, y_train)"
   ]
  },
  {
   "cell_type": "code",
   "execution_count": 55,
   "metadata": {},
   "outputs": [
    {
     "name": "stdout",
     "output_type": "stream",
     "text": [
      "CV Accuracy Score:  0.8825118163403106\n",
      "Test Accuracy Score:  0.8987854251012146\n",
      "{'cvec__binary': True, 'cvec__max_df': 3000, 'model__penalty': 'l2'}\n"
     ]
    }
   ],
   "source": [
    "print('CV Accuracy Score: ', gs.best_score_)\n",
    "print('Test Accuracy Score: ', gs.score(X_test, y_test))\n",
    "print(gs.best_params_)"
   ]
  },
  {
   "cell_type": "markdown",
   "metadata": {},
   "source": [
    "# Executive Summary\n",
    "---\n",
    "Put your executive summary in a Markdown cell below."
   ]
  },
  {
   "cell_type": "markdown",
   "metadata": {},
   "source": [
    "What characteristics of a post on Reddit contribute most to what subreddit it belongs to? Though seemingly trivial by itself, the answer to this question may provide insight on how to answer others that are similar in nature and ten-fold the importance. We may no longer have confusion over \"who said what\", as we will simply be able to look at \"what\" to accurately predict the \"who\".\n",
    "\n",
    "By looking at the content of hundreds of posts related to subreddits r/financialindependence and r/personalfinance, we were able to identify vocab words and patterns that provide a distinction between the two. By and large, posts in both subreddits follows a very similar pattern; a concise title that describes the content to follow, and then a post describing the issue or advice being provided. However, the content of these titles and descriptions is far different.\n",
    "\n",
    "We took nearly 2000 posts - 988 from financial independence, 987 from personal finance - and broke them down into the individual words. We removed common words like \"the\", \"and\", \"for\", etc. and then identified the words most commonly associated with each subreddit. We also looked at the words that appear most often in one subreddit versus the other; to signify their importance. After grabbing these individual \"tokens\", we created various models that could predict up to 91% accurately which subreddit they came from. We believe with more funding and experimentation, we can improve model accuracy, and also use this in other more useful applications."
   ]
  },
  {
   "cell_type": "code",
   "execution_count": null,
   "metadata": {},
   "outputs": [],
   "source": []
  }
 ],
 "metadata": {
  "anaconda-cloud": {},
  "kernelspec": {
   "display_name": "Python 3",
   "language": "python",
   "name": "python3"
  },
  "language_info": {
   "codemirror_mode": {
    "name": "ipython",
    "version": 3
   },
   "file_extension": ".py",
   "mimetype": "text/x-python",
   "name": "python",
   "nbconvert_exporter": "python",
   "pygments_lexer": "ipython3",
   "version": "3.6.5"
  },
  "varInspector": {
   "cols": {
    "lenName": 16,
    "lenType": 16,
    "lenVar": 40
   },
   "kernels_config": {
    "python": {
     "delete_cmd_postfix": "",
     "delete_cmd_prefix": "del ",
     "library": "var_list.py",
     "varRefreshCmd": "print(var_dic_list())"
    },
    "r": {
     "delete_cmd_postfix": ") ",
     "delete_cmd_prefix": "rm(",
     "library": "var_list.r",
     "varRefreshCmd": "cat(var_dic_list()) "
    }
   },
   "types_to_exclude": [
    "module",
    "function",
    "builtin_function_or_method",
    "instance",
    "_Feature"
   ],
   "window_display": false
  }
 },
 "nbformat": 4,
 "nbformat_minor": 1
}
